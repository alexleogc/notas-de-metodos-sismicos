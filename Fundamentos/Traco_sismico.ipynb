{
 "cells": [
  {
   "cell_type": "code",
   "execution_count": 1,
   "metadata": {},
   "outputs": [],
   "source": [
    "import pandas as pd\n",
    "import numpy as np\n",
    "import matplotlib.pyplot as plt\n",
    "\n",
    "from bruges import filters"
   ]
  },
  {
   "cell_type": "markdown",
   "metadata": {},
   "source": [
    "###  Modelo convolucional \n",
    "\n",
    "Sabe-se que o modelo convolucional é descrito pela seguinte Equação:\n",
    "\n",
    "$$p_t = W * Rc + \\textit{noise}$$\n",
    "\n",
    "em que:\n",
    "\n",
    "   W - É a wavelet;\n",
    "    \n",
    "   Rc - É a função refletividade; e\n",
    "    \n",
    "   <i> noise </i> - ruído desconhecido\n",
    "   \n",
    "A seguir será explicado como o traço sísmico é gerado através de um modelo sintético, sem levar em consideração o fenômeno de absorção de energia nem a presença de ruídos."
   ]
  },
  {
   "cell_type": "markdown",
   "metadata": {},
   "source": [
    "### Criando um modelo geológico"
   ]
  },
  {
   "cell_type": "code",
   "execution_count": 2,
   "metadata": {},
   "outputs": [],
   "source": [
    "z = np.arange(100,700,0.1) #Vetor da profundidade de 100 - 550m\n",
    "v = np.zeros(len(z))       #Criando um vetor nulo que será armazenado a velocidade\n",
    "d = np.zeros(len(z))       #Criando um vetor nulo que será armazenado a densidade"
   ]
  },
  {
   "cell_type": "code",
   "execution_count": 3,
   "metadata": {},
   "outputs": [],
   "source": [
    "#Criando um modelo geologico de camadas\n",
    "for i in range(0,len(z)):\n",
    "    if z[i]<=220:\n",
    "        v[i]=1900 ; d[i]=2.55\n",
    "    if z[i]>220 and z[i]<=310: \n",
    "        v[i]=2500 ; d[i]=2.55\n",
    "    if z[i]>310 and z[i]<=370: \n",
    "        v[i]=2000 ; d[i]=2.4\n",
    "    if z[i]>370 and z[i]<=390: \n",
    "        v[i]=3000 ; d[i]=2.65\n",
    "    if z[i]>390 and z[i]<=470: \n",
    "        v[i]=2500 ; d[i]=2.55\n",
    "    if z[i]>470 and z[i]<=510: \n",
    "        v[i]=3000 ; d[i]=2.65\n",
    "    if z[i]>510 and z[i]<=590: \n",
    "        v[i]=2500 ; d[i] = 2.4\n",
    "    if z[i]>590: \n",
    "        v[i]=4500 ; d[i]=2.75"
   ]
  },
  {
   "cell_type": "code",
   "execution_count": 4,
   "metadata": {},
   "outputs": [
    {
     "data": {
      "text/html": [
       "<div>\n",
       "<style scoped>\n",
       "    .dataframe tbody tr th:only-of-type {\n",
       "        vertical-align: middle;\n",
       "    }\n",
       "\n",
       "    .dataframe tbody tr th {\n",
       "        vertical-align: top;\n",
       "    }\n",
       "\n",
       "    .dataframe thead th {\n",
       "        text-align: right;\n",
       "    }\n",
       "</style>\n",
       "<table border=\"1\" class=\"dataframe\">\n",
       "  <thead>\n",
       "    <tr style=\"text-align: right;\">\n",
       "      <th></th>\n",
       "      <th>Depth</th>\n",
       "      <th>Vp</th>\n",
       "      <th>Rho</th>\n",
       "    </tr>\n",
       "  </thead>\n",
       "  <tbody>\n",
       "    <tr>\n",
       "      <th>0</th>\n",
       "      <td>100.0</td>\n",
       "      <td>1900.0</td>\n",
       "      <td>2550.0</td>\n",
       "    </tr>\n",
       "    <tr>\n",
       "      <th>1</th>\n",
       "      <td>100.1</td>\n",
       "      <td>1900.0</td>\n",
       "      <td>2550.0</td>\n",
       "    </tr>\n",
       "    <tr>\n",
       "      <th>2</th>\n",
       "      <td>100.2</td>\n",
       "      <td>1900.0</td>\n",
       "      <td>2550.0</td>\n",
       "    </tr>\n",
       "    <tr>\n",
       "      <th>3</th>\n",
       "      <td>100.3</td>\n",
       "      <td>1900.0</td>\n",
       "      <td>2550.0</td>\n",
       "    </tr>\n",
       "    <tr>\n",
       "      <th>4</th>\n",
       "      <td>100.4</td>\n",
       "      <td>1900.0</td>\n",
       "      <td>2550.0</td>\n",
       "    </tr>\n",
       "  </tbody>\n",
       "</table>\n",
       "</div>"
      ],
      "text/plain": [
       "   Depth      Vp     Rho\n",
       "0  100.0  1900.0  2550.0\n",
       "1  100.1  1900.0  2550.0\n",
       "2  100.2  1900.0  2550.0\n",
       "3  100.3  1900.0  2550.0\n",
       "4  100.4  1900.0  2550.0"
      ]
     },
     "execution_count": 4,
     "metadata": {},
     "output_type": "execute_result"
    }
   ],
   "source": [
    "#Criando um DataFrame\n",
    "df = pd.DataFrame({'Depth':z,'Vp':v,'Rho':d*1000}) #multiplicando densidade por 1000 (SI)\n",
    "df.head()"
   ]
  },
  {
   "cell_type": "code",
   "execution_count": 5,
   "metadata": {},
   "outputs": [
    {
     "data": {
      "image/png": "[encoded data removed]",
      "text/plain": [
       "<Figure size 432x432 with 3 Axes>"
      ]
     },
     "metadata": {
      "needs_background": "light"
     },
     "output_type": "display_data"
    }
   ],
   "source": [
    "#Plotando o modelo geológico, velocidade e densidade\n",
    "fig,axes = plt.subplots(ncols=3,figsize=(6,6))\n",
    "\n",
    "for ax in axes:\n",
    "    ax.invert_yaxis()\n",
    "\n",
    "color = ['lightgreen','yellow','green','orange','blue']\n",
    "for i,j in zip(df.Vp.unique(),color):\n",
    "    axes[0].fill_betweenx(y=df.Depth,\n",
    "                         x1=1,\n",
    "                         x2=0,\n",
    "                         where=df.Vp==i,\n",
    "                         color=j,\n",
    "                     alpha=0.6)\n",
    "    \n",
    "axes[0].set_ylabel('Profundidade (m)')\n",
    "axes[0].set_title('Modelo de camadas')\n",
    "axes[0].set_yticks(np.arange(100,550,25))\n",
    "\n",
    "axes[1].plot(df.Vp,df.Depth,color='black')\n",
    "axes[1].set_title('Velocidade')\n",
    "\n",
    "axes[1].set_xlabel('m/s')\n",
    "axes[2].plot(df.Rho,df.Depth,color='black')\n",
    "axes[2].set_xlabel('Kg/m$^3$')\n",
    "axes[2].set_title('Densidade')\n",
    "\n",
    "fig.tight_layout()"
   ]
  },
  {
   "cell_type": "markdown",
   "metadata": {},
   "source": [
    "Antes de calcular o coeficiente de reflexão, precisamos definir  impedância acústica. A <b>impedância acústica</b> ($AI$) é definida em função da velocidade ($v$) e da densidade ($\\rho$), e em geral, quanto maior a impedância acústica, \"mais rigida\" é a rocha (<a href=\"https://www.geologiabr.com/livros/geofisica-de-exploracao\"> Kearey et.al, 2009 </a>):\n",
    "\n",
    "$$ AI = v \\cdot \\rho $$\n",
    "\n",
    "O <b> coeficiente de reflexão </b> ($R_c$) é um efeito numérico da interface sobre a propagação de onda, e tem a ver com as proporções relativas de energia transmitida e refletida. Para um raio que incide normalmente (ângulo de 90°) sobre uma camada, pode ser definido como:\n",
    "\n",
    "### <center> </center>\n",
    "\n",
    "$$ R_c = \\frac{V_{2}\\cdot\\rho_{2}-V_{1} \\cdot \\rho_{1}}{V_{2}\\cdot\\rho_{2}+V_{1} \\cdot \\rho_{1}} = \\frac{AI_2-AI_1}{AI_2+AI_1} $$"
   ]
  },
  {
   "cell_type": "code",
   "execution_count": 6,
   "metadata": {},
   "outputs": [
    {
     "data": {
      "text/html": [
       "<div>\n",
       "<style scoped>\n",
       "    .dataframe tbody tr th:only-of-type {\n",
       "        vertical-align: middle;\n",
       "    }\n",
       "\n",
       "    .dataframe tbody tr th {\n",
       "        vertical-align: top;\n",
       "    }\n",
       "\n",
       "    .dataframe thead th {\n",
       "        text-align: right;\n",
       "    }\n",
       "</style>\n",
       "<table border=\"1\" class=\"dataframe\">\n",
       "  <thead>\n",
       "    <tr style=\"text-align: right;\">\n",
       "      <th></th>\n",
       "      <th>Depth</th>\n",
       "      <th>Vp</th>\n",
       "      <th>Rho</th>\n",
       "      <th>AI</th>\n",
       "    </tr>\n",
       "  </thead>\n",
       "  <tbody>\n",
       "    <tr>\n",
       "      <th>0</th>\n",
       "      <td>100.0</td>\n",
       "      <td>1900.0</td>\n",
       "      <td>2550.0</td>\n",
       "      <td>4845000.0</td>\n",
       "    </tr>\n",
       "    <tr>\n",
       "      <th>1</th>\n",
       "      <td>100.1</td>\n",
       "      <td>1900.0</td>\n",
       "      <td>2550.0</td>\n",
       "      <td>4845000.0</td>\n",
       "    </tr>\n",
       "    <tr>\n",
       "      <th>2</th>\n",
       "      <td>100.2</td>\n",
       "      <td>1900.0</td>\n",
       "      <td>2550.0</td>\n",
       "      <td>4845000.0</td>\n",
       "    </tr>\n",
       "    <tr>\n",
       "      <th>3</th>\n",
       "      <td>100.3</td>\n",
       "      <td>1900.0</td>\n",
       "      <td>2550.0</td>\n",
       "      <td>4845000.0</td>\n",
       "    </tr>\n",
       "    <tr>\n",
       "      <th>4</th>\n",
       "      <td>100.4</td>\n",
       "      <td>1900.0</td>\n",
       "      <td>2550.0</td>\n",
       "      <td>4845000.0</td>\n",
       "    </tr>\n",
       "  </tbody>\n",
       "</table>\n",
       "</div>"
      ],
      "text/plain": [
       "   Depth      Vp     Rho         AI\n",
       "0  100.0  1900.0  2550.0  4845000.0\n",
       "1  100.1  1900.0  2550.0  4845000.0\n",
       "2  100.2  1900.0  2550.0  4845000.0\n",
       "3  100.3  1900.0  2550.0  4845000.0\n",
       "4  100.4  1900.0  2550.0  4845000.0"
      ]
     },
     "execution_count": 6,
     "metadata": {},
     "output_type": "execute_result"
    }
   ],
   "source": [
    "df['AI'] = df['Vp']*df['Rho'] #Calculando a impedância acústica\n",
    "df.head()"
   ]
  },
  {
   "cell_type": "code",
   "execution_count": 7,
   "metadata": {},
   "outputs": [
    {
     "data": {
      "text/html": [
       "<div>\n",
       "<style scoped>\n",
       "    .dataframe tbody tr th:only-of-type {\n",
       "        vertical-align: middle;\n",
       "    }\n",
       "\n",
       "    .dataframe tbody tr th {\n",
       "        vertical-align: top;\n",
       "    }\n",
       "\n",
       "    .dataframe thead th {\n",
       "        text-align: right;\n",
       "    }\n",
       "</style>\n",
       "<table border=\"1\" class=\"dataframe\">\n",
       "  <thead>\n",
       "    <tr style=\"text-align: right;\">\n",
       "      <th></th>\n",
       "      <th>Depth</th>\n",
       "      <th>Vp</th>\n",
       "      <th>Rho</th>\n",
       "      <th>AI</th>\n",
       "      <th>Rc</th>\n",
       "    </tr>\n",
       "  </thead>\n",
       "  <tbody>\n",
       "    <tr>\n",
       "      <th>0</th>\n",
       "      <td>100.0</td>\n",
       "      <td>1900.0</td>\n",
       "      <td>2550.0</td>\n",
       "      <td>4845000.0</td>\n",
       "      <td>0.0</td>\n",
       "    </tr>\n",
       "    <tr>\n",
       "      <th>1</th>\n",
       "      <td>100.1</td>\n",
       "      <td>1900.0</td>\n",
       "      <td>2550.0</td>\n",
       "      <td>4845000.0</td>\n",
       "      <td>0.0</td>\n",
       "    </tr>\n",
       "    <tr>\n",
       "      <th>2</th>\n",
       "      <td>100.2</td>\n",
       "      <td>1900.0</td>\n",
       "      <td>2550.0</td>\n",
       "      <td>4845000.0</td>\n",
       "      <td>0.0</td>\n",
       "    </tr>\n",
       "    <tr>\n",
       "      <th>3</th>\n",
       "      <td>100.3</td>\n",
       "      <td>1900.0</td>\n",
       "      <td>2550.0</td>\n",
       "      <td>4845000.0</td>\n",
       "      <td>0.0</td>\n",
       "    </tr>\n",
       "    <tr>\n",
       "      <th>4</th>\n",
       "      <td>100.4</td>\n",
       "      <td>1900.0</td>\n",
       "      <td>2550.0</td>\n",
       "      <td>4845000.0</td>\n",
       "      <td>0.0</td>\n",
       "    </tr>\n",
       "  </tbody>\n",
       "</table>\n",
       "</div>"
      ],
      "text/plain": [
       "   Depth      Vp     Rho         AI   Rc\n",
       "0  100.0  1900.0  2550.0  4845000.0  0.0\n",
       "1  100.1  1900.0  2550.0  4845000.0  0.0\n",
       "2  100.2  1900.0  2550.0  4845000.0  0.0\n",
       "3  100.3  1900.0  2550.0  4845000.0  0.0\n",
       "4  100.4  1900.0  2550.0  4845000.0  0.0"
      ]
     },
     "execution_count": 7,
     "metadata": {},
     "output_type": "execute_result"
    }
   ],
   "source": [
    "#Calculando o coeficiente de reflexão\n",
    "Rc = np.zeros(len(df['AI']))\n",
    "for i in range(0,len(df['AI'])-1):\n",
    "    Rc[i] = (df['AI'][i+1]-df['AI'][i])/(df['AI'][i+1]+df['AI'][i])\n",
    "df['Rc'] = Rc\n",
    "df.head()"
   ]
  },
  {
   "cell_type": "markdown",
   "metadata": {},
   "source": [
    "Devemos lembrar que no modelo convolucional do traço sísmico temos a representação de interação da onda acústica com uma camada, que é registrada como o tempo duplo (<i>Two way travel time</i>) que a onda percorre da superfície até refletir em uma camada e retornar a superfície para ser registrada por um receptor.\n",
    "\n",
    "Para estimar o templo duplo (TWT), temos que fazer a soma cumulativa da vagarosidade registrada em poço.\n",
    "\n",
    "A vagarosidade é o inverso da velocidade acústica:\n",
    "\n",
    "$$ \\Delta t = \\frac{1}{v}. $$\n",
    "\n",
    "Comumente é apresentada em pés por segundo (pé/s), porém sua unidade no SI é dado em metros por segundo (m/s)."
   ]
  },
  {
   "cell_type": "code",
   "execution_count": 8,
   "metadata": {},
   "outputs": [
    {
     "data": {
      "text/html": [
       "<div>\n",
       "<style scoped>\n",
       "    .dataframe tbody tr th:only-of-type {\n",
       "        vertical-align: middle;\n",
       "    }\n",
       "\n",
       "    .dataframe tbody tr th {\n",
       "        vertical-align: top;\n",
       "    }\n",
       "\n",
       "    .dataframe thead th {\n",
       "        text-align: right;\n",
       "    }\n",
       "</style>\n",
       "<table border=\"1\" class=\"dataframe\">\n",
       "  <thead>\n",
       "    <tr style=\"text-align: right;\">\n",
       "      <th></th>\n",
       "      <th>Depth</th>\n",
       "      <th>Vp</th>\n",
       "      <th>Rho</th>\n",
       "      <th>AI</th>\n",
       "      <th>Rc</th>\n",
       "      <th>Dt_SI</th>\n",
       "      <th>TWT</th>\n",
       "    </tr>\n",
       "  </thead>\n",
       "  <tbody>\n",
       "    <tr>\n",
       "      <th>0</th>\n",
       "      <td>100.0</td>\n",
       "      <td>1900.0</td>\n",
       "      <td>2550.0</td>\n",
       "      <td>4845000.0</td>\n",
       "      <td>0.0</td>\n",
       "      <td>0.000526</td>\n",
       "      <td>0.058929</td>\n",
       "    </tr>\n",
       "    <tr>\n",
       "      <th>1</th>\n",
       "      <td>100.1</td>\n",
       "      <td>1900.0</td>\n",
       "      <td>2550.0</td>\n",
       "      <td>4845000.0</td>\n",
       "      <td>0.0</td>\n",
       "      <td>0.000526</td>\n",
       "      <td>0.059034</td>\n",
       "    </tr>\n",
       "    <tr>\n",
       "      <th>2</th>\n",
       "      <td>100.2</td>\n",
       "      <td>1900.0</td>\n",
       "      <td>2550.0</td>\n",
       "      <td>4845000.0</td>\n",
       "      <td>0.0</td>\n",
       "      <td>0.000526</td>\n",
       "      <td>0.059139</td>\n",
       "    </tr>\n",
       "    <tr>\n",
       "      <th>3</th>\n",
       "      <td>100.3</td>\n",
       "      <td>1900.0</td>\n",
       "      <td>2550.0</td>\n",
       "      <td>4845000.0</td>\n",
       "      <td>0.0</td>\n",
       "      <td>0.000526</td>\n",
       "      <td>0.059245</td>\n",
       "    </tr>\n",
       "    <tr>\n",
       "      <th>4</th>\n",
       "      <td>100.4</td>\n",
       "      <td>1900.0</td>\n",
       "      <td>2550.0</td>\n",
       "      <td>4845000.0</td>\n",
       "      <td>0.0</td>\n",
       "      <td>0.000526</td>\n",
       "      <td>0.059350</td>\n",
       "    </tr>\n",
       "  </tbody>\n",
       "</table>\n",
       "</div>"
      ],
      "text/plain": [
       "   Depth      Vp     Rho         AI   Rc     Dt_SI       TWT\n",
       "0  100.0  1900.0  2550.0  4845000.0  0.0  0.000526  0.058929\n",
       "1  100.1  1900.0  2550.0  4845000.0  0.0  0.000526  0.059034\n",
       "2  100.2  1900.0  2550.0  4845000.0  0.0  0.000526  0.059139\n",
       "3  100.3  1900.0  2550.0  4845000.0  0.0  0.000526  0.059245\n",
       "4  100.4  1900.0  2550.0  4845000.0  0.0  0.000526  0.059350"
      ]
     },
     "execution_count": 8,
     "metadata": {},
     "output_type": "execute_result"
    }
   ],
   "source": [
    "#Consideremos a velocidade média dos 100 primeiros metros 1700\n",
    "df['Dt_SI'] = 1/df['Vp'] #Obtendo a vagarosidade no SI\n",
    "df['TWT']=(100/1700) + 2*(df['Depth'][1]-df['Depth'][0])*np.cumsum(df['Dt_SI']) #Calculando o Two-way-travel time\n",
    "df.head()"
   ]
  },
  {
   "cell_type": "code",
   "execution_count": 9,
   "metadata": {},
   "outputs": [
    {
     "data": {
      "image/png": "[encoded data removed]",
      "text/plain": [
       "<Figure size 792x432 with 5 Axes>"
      ]
     },
     "metadata": {
      "needs_background": "light"
     },
     "output_type": "display_data"
    }
   ],
   "source": [
    "#Plotando modelo e o coeficiente de reflexão\n",
    "fig,axes = plt.subplots(ncols=5,figsize=(11,6))\n",
    "\n",
    "for ax in axes:\n",
    "    ax.invert_yaxis()\n",
    "\n",
    "for i,j in zip(df.Vp.unique(),color):\n",
    "    axes[0].fill_betweenx(y=df.TWT,\n",
    "                         x1=1,\n",
    "                         x2=0,\n",
    "                         where=df.Vp==i,\n",
    "                         color=j,\n",
    "                     alpha=0.6)\n",
    "    \n",
    "axes[0].set_title('Modelo Geológico')\n",
    "axes[0].set_ylabel('Two way travel-time (s)')\n",
    "    \n",
    "axes[1].plot(df.Vp,df.TWT,color='black')\n",
    "axes[1].set_title('Velocidade')\n",
    "axes[1].set_xlabel('m/s')\n",
    "axes[1].set_ylabel('Tempo duplo (s)')\n",
    "\n",
    "axes[2].plot(df.Rho,df.TWT,color='black')\n",
    "axes[2].set_title('Densidade')\n",
    "axes[2].set_xlabel('Kg/m$^3$')\n",
    "\n",
    "axes[3].plot(df.AI,df.TWT,color='black')\n",
    "axes[3].set_title('Impedância Acústica')\n",
    "axes[3].set_xlabel('Kg/(s.m$^2$)')\n",
    "\n",
    "axes[4].plot(df.Rc,df.TWT,color='black')\n",
    "axes[4].set_title('Coeficiente de Reflexão')\n",
    "axes[4].set_xticks(np.arange(-0.3,0.3+0.3,0.3))\n",
    "\n",
    "fig.tight_layout()"
   ]
  },
  {
   "cell_type": "markdown",
   "metadata": {},
   "source": [
    "### Reamostrando o dado\n",
    "\n",
    "Vamos criar um traço sintético com taxa de amostragem igual a $\\Delta t = 2ms$. Para isso, teremos que reamostrar o nosso dado sintético."
   ]
  },
  {
   "cell_type": "code",
   "execution_count": 10,
   "metadata": {},
   "outputs": [],
   "source": [
    "#Reamostrando a impedância acústica para uma taxa de amostragem de 2ms\n",
    "dt = 0.002\n",
    "t = np.arange(0,df.TWT.max()+dt,dt)\n",
    "Vp = np.interp(x=t,xp=df['TWT'],fp=df['Vp'])\n",
    "AI = np.interp(x=t,xp=df['TWT'],fp=df['AI'])"
   ]
  },
  {
   "cell_type": "code",
   "execution_count": 11,
   "metadata": {},
   "outputs": [],
   "source": [
    "#Calculando o coeficiente de reflexão\n",
    "Rc = np.zeros(len(AI))\n",
    "for i in range(0,len(Rc)-1):\n",
    "    Rc[i] = (AI[i+1]-AI[i])/ (AI[i+1]+AI[i])"
   ]
  },
  {
   "cell_type": "code",
   "execution_count": 12,
   "metadata": {},
   "outputs": [
    {
     "data": {
      "text/html": [
       "<div>\n",
       "<style scoped>\n",
       "    .dataframe tbody tr th:only-of-type {\n",
       "        vertical-align: middle;\n",
       "    }\n",
       "\n",
       "    .dataframe tbody tr th {\n",
       "        vertical-align: top;\n",
       "    }\n",
       "\n",
       "    .dataframe thead th {\n",
       "        text-align: right;\n",
       "    }\n",
       "</style>\n",
       "<table border=\"1\" class=\"dataframe\">\n",
       "  <thead>\n",
       "    <tr style=\"text-align: right;\">\n",
       "      <th></th>\n",
       "      <th>Time</th>\n",
       "      <th>Vp</th>\n",
       "      <th>AI</th>\n",
       "      <th>Rc</th>\n",
       "    </tr>\n",
       "  </thead>\n",
       "  <tbody>\n",
       "    <tr>\n",
       "      <th>0</th>\n",
       "      <td>0.000</td>\n",
       "      <td>1900.0</td>\n",
       "      <td>4845000.0</td>\n",
       "      <td>0.0</td>\n",
       "    </tr>\n",
       "    <tr>\n",
       "      <th>1</th>\n",
       "      <td>0.002</td>\n",
       "      <td>1900.0</td>\n",
       "      <td>4845000.0</td>\n",
       "      <td>0.0</td>\n",
       "    </tr>\n",
       "    <tr>\n",
       "      <th>2</th>\n",
       "      <td>0.004</td>\n",
       "      <td>1900.0</td>\n",
       "      <td>4845000.0</td>\n",
       "      <td>0.0</td>\n",
       "    </tr>\n",
       "    <tr>\n",
       "      <th>3</th>\n",
       "      <td>0.006</td>\n",
       "      <td>1900.0</td>\n",
       "      <td>4845000.0</td>\n",
       "      <td>0.0</td>\n",
       "    </tr>\n",
       "    <tr>\n",
       "      <th>4</th>\n",
       "      <td>0.008</td>\n",
       "      <td>1900.0</td>\n",
       "      <td>4845000.0</td>\n",
       "      <td>0.0</td>\n",
       "    </tr>\n",
       "  </tbody>\n",
       "</table>\n",
       "</div>"
      ],
      "text/plain": [
       "    Time      Vp         AI   Rc\n",
       "0  0.000  1900.0  4845000.0  0.0\n",
       "1  0.002  1900.0  4845000.0  0.0\n",
       "2  0.004  1900.0  4845000.0  0.0\n",
       "3  0.006  1900.0  4845000.0  0.0\n",
       "4  0.008  1900.0  4845000.0  0.0"
      ]
     },
     "execution_count": 12,
     "metadata": {},
     "output_type": "execute_result"
    }
   ],
   "source": [
    "#Criando um DataFrame com as informações anteriores\n",
    "trace = pd.DataFrame({'Time':t,\n",
    "                      'Vp':Vp,\n",
    "                     'AI':AI,\n",
    "                     'Rc':Rc})\n",
    "trace.head()"
   ]
  },
  {
   "cell_type": "markdown",
   "metadata": {},
   "source": [
    "### Criando uma wavelet de fase zero\n",
    "\n",
    "É importante lembrar que fontes reais como <i>vibroseis</i> e <i>airguns</i> produzem assinaturas de fase minima. A wavelet de fase minima é aquela que não tem nenhuma energia registrada antes do tempo zero.\n",
    "\n",
    "Para efeitos didáticos, será criada uma wavelet de fase zero, aquela cujo o pico de amplitude está centrada em zero e com polaridade positiva (padrão americano).\n",
    "\n",
    "A wavelet utilizada será a ricker, que é definida como:\n",
    "\n",
    "$$ A(t) = (1-2\\pi^2f_M^2t^2)e^{-\\pi^2f_M^2t^2} $$"
   ]
  },
  {
   "cell_type": "code",
   "execution_count": 13,
   "metadata": {},
   "outputs": [],
   "source": [
    "#Criando uma wavelet ricker utilizando o pacote bruges\n",
    "#frequência de 25Hz, taxa de amostragem de 2ms e  tempo de duração de 128ms\n",
    "wave_ricker,t_wave = filters.wavelets.ricker(0.128,dt=0.002,f=25,return_t=True)"
   ]
  },
  {
   "cell_type": "code",
   "execution_count": 14,
   "metadata": {},
   "outputs": [
    {
     "data": {
      "text/plain": [
       "<matplotlib.collections.PolyCollection at 0x7ff3867ca710>"
      ]
     },
     "execution_count": 14,
     "metadata": {},
     "output_type": "execute_result"
    },
    {
     "data": {
      "image/png": "[encoded data removed]",
      "text/plain": [
       "<Figure size 432x288 with 1 Axes>"
      ]
     },
     "metadata": {
      "needs_background": "light"
     },
     "output_type": "display_data"
    }
   ],
   "source": [
    "plt.title('Wavelet Ricker de fase zero')\n",
    "plt.plot(t_wave,wave_ricker,color='black')\n",
    "plt.fill_between(x=t_wave,y1=wave_ricker,y2=0,where=(wave_ricker>0),color='blue')\n",
    "plt.fill_between(x=t_wave,y1=wave_ricker,y2=0,where=(wave_ricker<0),color='red')"
   ]
  },
  {
   "cell_type": "markdown",
   "metadata": {},
   "source": [
    "Convolvendo o a wavelet com a função refletividade para gerar o modelo do traço sísmico (sem ruído):\n",
    "\n",
    "$$p_t = W * Rc$$"
   ]
  },
  {
   "cell_type": "code",
   "execution_count": 15,
   "metadata": {},
   "outputs": [],
   "source": [
    "trace['t_synth_1'] = np.convolve(wave_ricker,trace.Rc,mode='same')"
   ]
  },
  {
   "cell_type": "code",
   "execution_count": 16,
   "metadata": {},
   "outputs": [
    {
     "data": {
      "image/png": "[encoded data removed]",
      "text/plain": [
       "<Figure size 720x360 with 5 Axes>"
      ]
     },
     "metadata": {
      "needs_background": "light"
     },
     "output_type": "display_data"
    }
   ],
   "source": [
    "#Plotando o traço sísmico\n",
    "\n",
    "fig,axes = plt.subplots(ncols=5,figsize=(10,5))\n",
    "\n",
    "for ax in axes:\n",
    "    ax.set_ylim(0.05,0.55)\n",
    "    ax.invert_yaxis()\n",
    "\n",
    "\n",
    "for i,j in zip(df.Vp.unique(),color):\n",
    "    axes[0].fill_betweenx(y=df.TWT,\n",
    "                         x1=1,\n",
    "                         x2=0,\n",
    "                         where=df.Vp==i,\n",
    "                         color=j,\n",
    "                     alpha=0.6)\n",
    "    \n",
    "axes[0].set_title('Modelo Geológico')\n",
    "axes[0].set_ylabel('Two way travel-time (s)')\n",
    "\n",
    "axes[1].plot(trace.AI,trace.Time,color='black')\n",
    "axes[1].set_title('Impedância Acústica')\n",
    "axes[1].set_xlabel('Kg/(s.m$^2$)')\n",
    "\n",
    "axes[2].plot(trace.Rc,trace.Time,color='black')\n",
    "axes[2].set_title('Coeficiente de Reflexão')\n",
    "\n",
    "axes[3].plot(wave_ricker,t_wave,color='black')\n",
    "axes[3].fill_betweenx(y=t_wave,\n",
    "                     x1=wave_ricker,\n",
    "                     x2=0,\n",
    "                     where=wave_ricker>0,color='blue')\n",
    "\n",
    "axes[3].plot(wave_ricker,t_wave,color='black')\n",
    "axes[3].fill_betweenx(y=t_wave,\n",
    "                     x1=wave_ricker,\n",
    "                     x2=0,\n",
    "                     where=wave_ricker<0,color='red')\n",
    "\n",
    "axes[3].set_ylim(t_wave.min(),t_wave.max())\n",
    "\n",
    "axes[3].set_title('Wavelet')\n",
    "\n",
    "axes[4].plot(trace.t_synth_1,trace.Time,color='black')\n",
    "axes[4].fill_betweenx(y=trace.Time,\n",
    "                 x1=trace.t_synth_1,\n",
    "                 x2=0,\n",
    "                 where=trace.t_synth_1>0,color='blue')\n",
    "\n",
    "axes[4].fill_betweenx(y=trace.Time,\n",
    "                 x1=trace.t_synth_1,\n",
    "                 x2=0,\n",
    "                 where=trace.t_synth_1<0,color='red')\n",
    "\n",
    "axes[4].set_title('Traço Sísmico')\n",
    "\n",
    "fig.text(x=0.61,y=0.5,s='*',fontsize=16)\n",
    "\n",
    "fig.text(x=0.81,y=0.5,s='=',fontsize=16)\n",
    "\n",
    "fig.tight_layout()"
   ]
  },
  {
   "cell_type": "code",
   "execution_count": 17,
   "metadata": {},
   "outputs": [],
   "source": [
    "trace.to_csv('Dados/traco_sintetico.csv',index=False)"
   ]
  }
 ],
 "metadata": {
  "kernelspec": {
   "display_name": "Python 3",
   "language": "python",
   "name": "python3"
  },
  "language_info": {
   "codemirror_mode": {
    "name": "ipython",
    "version": 3
   },
   "file_extension": ".py",
   "mimetype": "text/x-python",
   "name": "python",
   "nbconvert_exporter": "python",
   "pygments_lexer": "ipython3",
   "version": "3.7.6"
  }
 },
 "nbformat": 4,
 "nbformat_minor": 4
}
